{
 "cells": [
  {
   "cell_type": "code",
   "execution_count": 328,
   "id": "8311949b-e90b-4642-809e-bb5a3a3262f6",
   "metadata": {
    "tags": []
   },
   "outputs": [],
   "source": [
    "import casperfpga\n",
    "import numpy as np\n",
    "from matplotlib import pyplot as plt\n",
    "import struct\n",
    "import time\n",
    "%matplotlib widget"
   ]
  },
  {
   "cell_type": "code",
   "execution_count": 329,
   "id": "a2138d4e-ad61-4870-a792-a2d03324ed33",
   "metadata": {
    "tags": []
   },
   "outputs": [],
   "source": [
    "def Scope(darray):\n",
    "    try:\n",
    "        plt.close('all')\n",
    "    except:\n",
    "        pass\n",
    "    fig = plt.figure()\n",
    "    subfig = fig.add_subplot(111)\n",
    "    for d in darray:\n",
    "        subfig.plot(d)\n",
    "    subfig.set_title('Time Domain Data')\n",
    "    subfig.set_xlabel('Samples')\n",
    "    subfig.grid(True)\n",
    "\n",
    "def CreateTestFilter(dac_fft_len, fft_points, bw=1):\n",
    "    N = dac_fft_len//2\n",
    "    fil = np.zeros(N)\n",
    "    L = int(N*bw)\n",
    "    passband = np.zeros(L)\n",
    "    factor = dac_fft_len//fft_points/2\n",
    "    for i in range(L):\n",
    "        # we need to filter DC\n",
    "        if i == 0:\n",
    "            continue\n",
    "        elif i%factor == 0:\n",
    "            passband[i] = 1\n",
    "    fil[:L] = passband\n",
    "    return fil\n",
    "    \n",
    "    \n",
    "def DacDataGen(channel_num, cfil, single_bin=0, scale=2**13):\n",
    "    N = channel_num\n",
    "    M = (N//2)-1\n",
    "    fil = np.zeros(M+1)\n",
    "    if single_bin == 0:\n",
    "        fil = cfil\n",
    "    else:\n",
    "        fil[single_bin] = 1\n",
    "    d_freq = np.zeros(N) + 1j*np.zeros(N)\n",
    "    d_freq_half0 = np.exp(1j*np.random.uniform(0, 2*np.pi, size=M)) * fil[1:M+1]\n",
    "    d_freq_half1 = np.conjugate(d_freq_half0)[::-1]\n",
    "    d_freq[1:M+1] = d_freq_half0\n",
    "    d_freq[-M:] = d_freq_half1\n",
    "    d_time = np.fft.ifft(d_freq)\n",
    "    d_time_int = np.round((d_time*scale))\n",
    "    return d_time_int\n",
    "\n",
    "def ADCSampling(data, adc_fs=500, dac_fs=1000):\n",
    "    decimation_factor = int(dac_fs/adc_fs)\n",
    "    tmp = data.reshape(-1, decimation_factor)\n",
    "    return tmp[:,0]\n",
    "\n",
    "def LPFilter(data, bw=0.5):\n",
    "    l = int(len(data)/2)\n",
    "    fil = np.zeros(l*2)\n",
    "    passband_len = int(2*l*bw)\n",
    "    passband = np.ones(passband_len)\n",
    "    # we don't need DC\n",
    "    passband[0] = 0\n",
    "    fil[:passband_len] = passband\n",
    "    tmp = fil[:l][::-1]\n",
    "    fil[-l:] = tmp\n",
    "    data = data * fil\n",
    "    return data\n",
    "    \n",
    "def SpectraAnalyzer(data, fs=1000, show_bin=False):\n",
    "    N = len(data)\n",
    "    spec = np.fft.fft(data)\n",
    "    spec_shift = np.fft.fftshift(spec)\n",
    "    freq = np.fft.fftfreq(N, 1/fs)\n",
    "    freq_shift = np.fft.fftshift(freq)\n",
    "    try:\n",
    "        plt.close('all')\n",
    "    except:\n",
    "        pass\n",
    "    fig = plt.figure()\n",
    "    subfig = fig.add_subplot(111)\n",
    "    if show_bin == True:\n",
    "        s = np.abs(spec_shift[-int(N/2):])\n",
    "        subfig.plot(np.arange(len(s)),s)\n",
    "        subfig.set_xlabel('Bins')\n",
    "    else:\n",
    "        subfig.plot(freq_shift[-int(N/2):], abs(spec_shift[-int(N/2):]))\n",
    "        subfig.set_xlabel('MHz')\n",
    "    subfig.set_title('Spectra Data')\n",
    "    subfig.set_yscale('log')\n",
    "    subfig.grid(True)\n",
    "    return spec\n",
    "\n",
    "def ToBytes(data):\n",
    "    N = len(data)\n",
    "    data = np.short(data)\n",
    "    buf = struct.pack('>%dh'%N, *data)\n",
    "    return buf"
   ]
  },
  {
   "cell_type": "code",
   "execution_count": 364,
   "id": "9ed82514-c266-45eb-87a2-79f01e4ac80e",
   "metadata": {
    "tags": []
   },
   "outputs": [],
   "source": [
    "rfsoc=casperfpga.CasperFpga('192.168.88.109',transport=casperfpga.KatcpTransport)"
   ]
  },
  {
   "cell_type": "code",
   "execution_count": 358,
   "id": "446d2c7f-689f-4a53-ad4a-6dc5452cd7dc",
   "metadata": {
    "tags": []
   },
   "outputs": [
    {
     "data": {
      "text/plain": [
       "<casperfpga.transport_katcp.KatcpTransport at 0x7f8eaadb0a30>"
      ]
     },
     "execution_count": 358,
     "metadata": {},
     "output_type": "execute_result"
    }
   ],
   "source": [
    "rfsoc.transport"
   ]
  },
  {
   "cell_type": "code",
   "execution_count": 197,
   "id": "dfc17c6c-435f-422e-8ce2-b296d94ae789",
   "metadata": {
    "tags": []
   },
   "outputs": [
    {
     "data": {
      "text/plain": [
       "True"
      ]
     },
     "execution_count": 197,
     "metadata": {},
     "output_type": "execute_result"
    }
   ],
   "source": [
    "# config RFSoC2z2\n",
    "rfsoc.upload_to_ram_and_program('rfsocdactut_2025-06-30_1113.fpg')\n",
    "rfdc = rfsoc.adcs['rfdc']\n",
    "# init rfdc\n",
    "rfdc.init()"
   ]
  },
  {
   "cell_type": "code",
   "execution_count": 340,
   "id": "e2dfebe0-a85d-4fca-b12a-e4b8b6161535",
   "metadata": {
    "tags": []
   },
   "outputs": [
    {
     "name": "stdout",
     "output_type": "stream",
     "text": [
      "ADC0: Enabled 1, State 0, PLL -1580255468\n",
      "ADC1: Enabled 0\n",
      "ADC2: Enabled 0\n",
      "ADC3: Enabled 0\n",
      "DAC0: Enabled 1, State 15, PLL 1\n",
      "DAC1: Enabled 0\n",
      "DAC2: Enabled 0\n",
      "DAC3: Enabled 0\n"
     ]
    },
    {
     "data": {
      "text/plain": [
       "True"
      ]
     },
     "execution_count": 340,
     "metadata": {},
     "output_type": "execute_result"
    }
   ],
   "source": [
    "# init LMK and LMX\n",
    "c = rfdc.show_clk_files()\n",
    "# ref = 12.5MHz\n",
    "# rfdc.progpll('lmk', c[0])\n",
    "# ref = 250MHz\n",
    "rfdc.progpll('lmk', c[1])\n",
    "rfdc.progpll('lmx', c[3])\n",
    "time.sleep(1)\n",
    "rfdc.status()"
   ]
  },
  {
   "cell_type": "markdown",
   "id": "6775913c-7377-4bc5-ad92-f05c0cc44e98",
   "metadata": {},
   "source": [
    "# Generate Sine Wave"
   ]
  },
  {
   "cell_type": "code",
   "execution_count": 63,
   "id": "471e6d07-9707-47d4-82de-ce33ed737368",
   "metadata": {
    "tags": []
   },
   "outputs": [],
   "source": [
    "fs = 1000\n",
    "fout = 0.48828125*10\n",
    "#fout=5\n",
    "N = 8192\n",
    "samples_per_axis = 4\n",
    "bytes_per_sample = 2\n",
    "\n",
    "samples_per_cyc = fs/fout\n",
    "\n",
    "max_addr = samples_per_cyc*bytes_per_sample//samples_per_axis - 3\n",
    "\n",
    "t = np.arange(N)\n",
    "d = np.sin(2*np.pi*fout/fs*t)\n",
    "d_int = np.short(d*2**10)\n",
    "\n",
    "buf = struct.pack('>%dh'%N, *d_int)\n",
    "rfsoc.write('wf_bram_0', buf)\n",
    "rfsoc.write_int('addr_max', max_addr)\n",
    "rfsoc.write_int('wf_en', 1)"
   ]
  },
  {
   "cell_type": "markdown",
   "id": "08ceb477-b8be-4edc-834f-a2abaf7eadce",
   "metadata": {},
   "source": [
    "# Generate Noise in each bin"
   ]
  },
  {
   "cell_type": "code",
   "execution_count": 354,
   "id": "dff592cf-1138-4475-baf3-4d6a87785e9c",
   "metadata": {
    "tags": []
   },
   "outputs": [
    {
     "name": "stdout",
     "output_type": "stream",
     "text": [
      "dac_ifft_len 32768\n"
     ]
    },
    {
     "ename": "IndexError",
     "evalue": "only integers, slices (`:`), ellipsis (`...`), numpy.newaxis (`None`) and integer or boolean arrays are valid indices",
     "output_type": "error",
     "traceback": [
      "\u001b[0;31m---------------------------------------------------------------------------\u001b[0m",
      "\u001b[0;31mIndexError\u001b[0m                                Traceback (most recent call last)",
      "Cell \u001b[0;32mIn[354], line 21\u001b[0m\n\u001b[1;32m     19\u001b[0m \u001b[38;5;66;03m# generate the data for the DAC with DAC sampling rate=1000\u001b[39;00m\n\u001b[1;32m     20\u001b[0m cfil \u001b[38;5;241m=\u001b[39m CreateTestFilter(dac_fft_len, fft_points, bw \u001b[38;5;241m=\u001b[39m bw\u001b[38;5;241m/\u001b[39mdac_fs\u001b[38;5;241m*\u001b[39m\u001b[38;5;241m2\u001b[39m)\n\u001b[0;32m---> 21\u001b[0m d_time \u001b[38;5;241m=\u001b[39m \u001b[43mDacDataGen\u001b[49m\u001b[43m(\u001b[49m\u001b[43mdac_fft_len\u001b[49m\u001b[43m,\u001b[49m\u001b[43m \u001b[49m\u001b[43mcfil\u001b[49m\u001b[43m,\u001b[49m\u001b[43m \u001b[49m\u001b[43msingle_bin\u001b[49m\u001b[38;5;241;43m=\u001b[39;49m\u001b[43msingle_bin\u001b[49m\u001b[38;5;241;43m*\u001b[39;49m\u001b[43mdac_fft_len\u001b[49m\u001b[38;5;241;43m/\u001b[39;49m\u001b[38;5;241;43m/\u001b[39;49m\u001b[43mfft_points\u001b[49m\u001b[38;5;241;43m/\u001b[39;49m\u001b[38;5;241;43m/\u001b[39;49m\u001b[43m(\u001b[49m\u001b[43mdac_fs\u001b[49m\u001b[38;5;241;43m/\u001b[39;49m\u001b[38;5;241;43m/\u001b[39;49m\u001b[43madc_fs\u001b[49m\u001b[43m)\u001b[49m\u001b[43m,\u001b[49m\u001b[43m \u001b[49m\u001b[43mscale\u001b[49m\u001b[43m \u001b[49m\u001b[38;5;241;43m=\u001b[39;49m\u001b[43m \u001b[49m\u001b[38;5;241;43m2\u001b[39;49m\u001b[38;5;241;43m*\u001b[39;49m\u001b[38;5;241;43m*\u001b[39;49m\u001b[38;5;241;43m20\u001b[39;49m\u001b[43m)\u001b[49m\n\u001b[1;32m     22\u001b[0m Scope([d_time\u001b[38;5;241m.\u001b[39mreal, d_time\u001b[38;5;241m.\u001b[39mimag])\n\u001b[1;32m     23\u001b[0m nbuf \u001b[38;5;241m=\u001b[39m ToBytes(d_time\u001b[38;5;241m.\u001b[39mreal)\n",
      "Cell \u001b[0;32mIn[329], line 37\u001b[0m, in \u001b[0;36mDacDataGen\u001b[0;34m(channel_num, cfil, single_bin, scale)\u001b[0m\n\u001b[1;32m     35\u001b[0m     fil \u001b[38;5;241m=\u001b[39m cfil\n\u001b[1;32m     36\u001b[0m \u001b[38;5;28;01melse\u001b[39;00m:\n\u001b[0;32m---> 37\u001b[0m     \u001b[43mfil\u001b[49m\u001b[43m[\u001b[49m\u001b[43msingle_bin\u001b[49m\u001b[43m]\u001b[49m \u001b[38;5;241m=\u001b[39m \u001b[38;5;241m1\u001b[39m\n\u001b[1;32m     38\u001b[0m d_freq \u001b[38;5;241m=\u001b[39m np\u001b[38;5;241m.\u001b[39mzeros(N) \u001b[38;5;241m+\u001b[39m \u001b[38;5;241m1\u001b[39mj\u001b[38;5;241m*\u001b[39mnp\u001b[38;5;241m.\u001b[39mzeros(N)\n\u001b[1;32m     39\u001b[0m d_freq_half0 \u001b[38;5;241m=\u001b[39m np\u001b[38;5;241m.\u001b[39mexp(\u001b[38;5;241m1\u001b[39mj\u001b[38;5;241m*\u001b[39mnp\u001b[38;5;241m.\u001b[39mrandom\u001b[38;5;241m.\u001b[39muniform(\u001b[38;5;241m0\u001b[39m, \u001b[38;5;241m2\u001b[39m\u001b[38;5;241m*\u001b[39mnp\u001b[38;5;241m.\u001b[39mpi, size\u001b[38;5;241m=\u001b[39mM)) \u001b[38;5;241m*\u001b[39m fil[\u001b[38;5;241m1\u001b[39m:M\u001b[38;5;241m+\u001b[39m\u001b[38;5;241m1\u001b[39m]\n",
      "\u001b[0;31mIndexError\u001b[0m: only integers, slices (`:`), ellipsis (`...`), numpy.newaxis (`None`) and integer or boolean arrays are valid indices"
     ]
    }
   ],
   "source": [
    "# adc sampling rate\n",
    "adc_fs = 500.0\n",
    "# dac sampling rate\n",
    "dac_fs = 1000.0\n",
    "# bandwidth\n",
    "bw = 250.0\n",
    "# fft points on the SNAP\n",
    "fft_points = 2048\n",
    "# check the single bin\n",
    "# if it's 0, the signal will show up in all bins\n",
    "single_bin=100\n",
    "# fixed parameters in FPGA design\n",
    "bytes_per_axis = 8\n",
    "bytes_per_sample = 2\n",
    "# dac FFT length\n",
    "dac_fft_len = 32768\n",
    "print('dac_ifft_len', dac_fft_len)\n",
    "\n",
    "# generate the data for the DAC with DAC sampling rate=1000\n",
    "cfil = CreateTestFilter(dac_fft_len, fft_points, bw = bw/dac_fs*2)\n",
    "d_time = DacDataGen(dac_fft_len, cfil, single_bin=single_bin*dac_fft_len//fft_points//(dac_fs//adc_fs), scale = 2**20)\n",
    "Scope([d_time.real, d_time.imag])\n",
    "nbuf = ToBytes(d_time.real)\n",
    "# spec = SpectraAnalyzer(d_time.real, fs=dac_fs)\n",
    "\n",
    "zeros = np.zeros(2**13*2, dtype=np.short)\n",
    "zeros_bytes = struct.pack('>%dh'%len(zeros), *zeros)\n",
    "rfsoc.write('wf_bram_0', zeros_bytes)\n",
    "rfsoc.write('wf_bram_0', nbuf)\n",
    "rfsoc.write_int('wf_en', 1)\n",
    "samples_per_cyc = dac_fft_len\n",
    "max_addr = int(samples_per_cyc*bytes_per_sample/bytes_per_axis - 3)\n",
    "print('max_addr', max_addr)\n",
    "rfsoc.write_int('addr_max', max_addr)"
   ]
  },
  {
   "cell_type": "code",
   "execution_count": 301,
   "id": "cdb52ad1-f76c-46c6-9420-4a67158be792",
   "metadata": {
    "tags": []
   },
   "outputs": [
    {
     "data": {
      "text/plain": [
       "8192"
      ]
     },
     "execution_count": 301,
     "metadata": {},
     "output_type": "execute_result"
    }
   ],
   "source": [
    "len(nbuf)"
   ]
  },
  {
   "cell_type": "code",
   "execution_count": 324,
   "id": "92f3fe3c-567d-4318-96b4-bd72cf544dbc",
   "metadata": {},
   "outputs": [],
   "source": [
    "d = ADCSampling(d_time.real,  adc_fs=adc_fs, dac_fs=dac_fs)"
   ]
  },
  {
   "cell_type": "code",
   "execution_count": 325,
   "id": "b24e5eb3-cfd1-4017-9368-27ed5151d583",
   "metadata": {
    "tags": []
   },
   "outputs": [
    {
     "data": {
      "text/plain": [
       "array([0.+0.j, 0.+0.j, 0.+0.j, ..., 0.+0.j, 0.+0.j, 0.+0.j])"
      ]
     },
     "execution_count": 325,
     "metadata": {},
     "output_type": "execute_result"
    },
    {
     "data": {
      "application/vnd.jupyter.widget-view+json": {
       "model_id": "ed8e9c85e5d647b393444d21209dc4fd",
       "version_major": 2,
       "version_minor": 0
      },
      "image/png": "[encoded data removed]",
      "text/html": [
       "\n",
       "            <div style=\"display: inline-block;\">\n",
       "                <div class=\"jupyter-widgets widget-label\" style=\"text-align: center;\">\n",
       "                    Figure\n",
       "                </div>\n",
       "                <img src='data:image/png;base64,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' width=640.0/>\n",
       "            </div>\n",
       "        "
      ],
      "text/plain": [
       "Canvas(toolbar=Toolbar(toolitems=[('Home', 'Reset original view', 'home', 'home'), ('Back', 'Back to previous …"
      ]
     },
     "metadata": {},
     "output_type": "display_data"
    }
   ],
   "source": [
    "SpectraAnalyzer(d[:fft_points], fs=adc_fs, show_bin=True)"
   ]
  },
  {
   "cell_type": "code",
   "execution_count": 356,
   "id": "c867fb07-f0b8-4d7c-ba67-e16ce6be3ce1",
   "metadata": {},
   "outputs": [
    {
     "data": {
      "text/plain": [
       "800.0"
      ]
     },
     "execution_count": 356,
     "metadata": {},
     "output_type": "execute_result"
    }
   ],
   "source": [
    "single_bin*dac_fft_len//fft_points//(dac_fs//adc_fs)"
   ]
  },
  {
   "cell_type": "code",
   "execution_count": null,
   "id": "892eeb5b-5d50-48a4-9bd3-3dc2c872ab01",
   "metadata": {},
   "outputs": [],
   "source": []
  }
 ],
 "metadata": {
  "kernelspec": {
   "display_name": "Python-py38",
   "language": "python",
   "name": "py38"
  },
  "language_info": {
   "codemirror_mode": {
    "name": "ipython",
    "version": 3
   },
   "file_extension": ".py",
   "mimetype": "text/x-python",
   "name": "python",
   "nbconvert_exporter": "python",
   "pygments_lexer": "ipython3",
   "version": "3.8.16"
  }
 },
 "nbformat": 4,
 "nbformat_minor": 5
}
